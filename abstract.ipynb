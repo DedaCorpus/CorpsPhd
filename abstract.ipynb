import os
import fitz  # PyMuPDF

def extract_abstract_from_pdf(file_path):
    doc = fitz.open(file_path)
    abstract = ''

    for page_num in range(doc.page_count):
        page = doc.load_page(page_num)
        text = page.get_text()

        if 'abstract' in text.lower():
            abstract_start = text.lower().index('abstract')
            abstract = text[abstract_start:]
            
            # Find the next section or delimiter
            next_section_index = text.lower().find('introduction', abstract_start)
            if next_section_index == -1:
                next_section_index = text.lower().find('keywords', abstract_start)
            if next_section_index == -1:
                next_section_index = len(text)
                
            abstract = abstract[:next_section_index]
            break

    return abstract

def extract_abstracts_from_folder(folder_path):
    abstracts = {}

    for filename in os.listdir(folder_path):
        file_path = os.path.join(folder_path, filename)

        if os.path.isfile(file_path) and filename.lower().endswith('.pdf'):
            abstract = extract_abstract_from_pdf(file_path)
            abstracts[filename] = abstract

    return abstracts

# Provide the path to the folder containing the PDF files
pdf_folder_path = 'papers'

# Extract abstracts from PDFs in the folder
abstracts = extract_abstracts_from_folder(pdf_folder_path)

# Print the abstracts
for filename, abstract in abstracts.items():
    print(f'Filename: {filename}')
    print(f'Abstract: {abstract}')
    print('---')
